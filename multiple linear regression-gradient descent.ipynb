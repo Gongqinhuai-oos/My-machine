{
 "cells": [
  {
   "cell_type": "code",
   "execution_count": 98,
   "metadata": {},
   "outputs": [],
   "source": [
    "import numpy as np\n",
    "import pandas as pd"
   ]
  },
  {
   "cell_type": "code",
   "execution_count": 105,
   "metadata": {},
   "outputs": [],
   "source": [
    "class multiple_regression(object):\n",
    "    def __init__(self,eta=0.1):\n",
    "        self.eta = eta\n",
    "        \n",
    "    def fit(self,X,y):\n",
    "        self.weight = np.random.RandomState(1).normal(loc=0,scale=0.1,size = X.shape[1]+1)\n",
    "        self.m = X.shape[0]\n",
    "        self.n = X.shape[1]\n",
    "        self.cost = 0\n",
    "        self.costl = []\n",
    "        self.dif = sum(np.dot(X,self.weight[1:])+self.weight[0]-y)\n",
    "        \n",
    "        for xi,target in zip(X,y):\n",
    "            self.cost = sum((np.dot(X,self.weight[1:])+self.weight[0]-y)**2)\n",
    "            self.costl.append(self.cost)\n",
    "            self.a = self.weight[0] - self.eta*self.dif/self.m\n",
    "            self.b = self.weight[1:] - ((self.eta*self.dif/self.m)*xi)\n",
    "            self.weight[0] = self.a\n",
    "            self.weight[1:] = self.b\n",
    "            \n",
    "        return self\n",
    "            \n",
    "            \n",
    "            \n",
    "            \n",
    "        "
   ]
  },
  {
   "cell_type": "code",
   "execution_count": null,
   "metadata": {},
   "outputs": [],
   "source": []
  },
  {
   "cell_type": "code",
   "execution_count": null,
   "metadata": {},
   "outputs": [],
   "source": []
  }
 ],
 "metadata": {
  "kernelspec": {
   "display_name": "Python 3",
   "language": "python",
   "name": "python3"
  },
  "language_info": {
   "codemirror_mode": {
    "name": "ipython",
    "version": 3
   },
   "file_extension": ".py",
   "mimetype": "text/x-python",
   "name": "python",
   "nbconvert_exporter": "python",
   "pygments_lexer": "ipython3",
   "version": "3.7.4"
  }
 },
 "nbformat": 4,
 "nbformat_minor": 2
}
